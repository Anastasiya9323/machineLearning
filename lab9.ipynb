{
  "nbformat": 4,
  "nbformat_minor": 0,
  "metadata": {
    "colab": {
      "provenance": [],
      "authorship_tag": "ABX9TyPNmKsAHJPQhw9zgjPeTeMm",
      "include_colab_link": true
    },
    "kernelspec": {
      "name": "python3",
      "display_name": "Python 3"
    },
    "language_info": {
      "name": "python"
    }
  },
  "cells": [
    {
      "cell_type": "markdown",
      "metadata": {
        "id": "view-in-github",
        "colab_type": "text"
      },
      "source": [
        "<a href=\"https://colab.research.google.com/github/Anastasiya9323/machineLearning/blob/main/lab9.ipynb\" target=\"_parent\"><img src=\"https://colab.research.google.com/assets/colab-badge.svg\" alt=\"Open In Colab\"/></a>"
      ]
    },
    {
      "cell_type": "code",
      "execution_count": 1,
      "metadata": {
        "id": "A9f3DrdT2pdl"
      },
      "outputs": [],
      "source": [
        "import torch\n",
        "\n",
        "N = 4\n",
        "C = 3\n",
        "C_out = 10\n",
        "H = 8\n",
        "W = 16\n"
      ]
    },
    {
      "cell_type": "code",
      "source": [
        "x = torch.ones((N, C, H, W))"
      ],
      "metadata": {
        "id": "8qxjGmot2vgd"
      },
      "execution_count": 2,
      "outputs": []
    },
    {
      "cell_type": "code",
      "source": [
        "torch.Size([4, 10, 8, 16])\n",
        "out1 = torch.nn.Conv2d(C, C_out, kernel_size=(3, 3), padding=(1,1))(x)\n",
        "print(out1.shape) # для самопроверки\n"
      ],
      "metadata": {
        "id": "6yFdUp1w2vom",
        "outputId": "4930515c-8185-4f70-cf90-82d40eb5d269",
        "colab": {
          "base_uri": "https://localhost:8080/"
        }
      },
      "execution_count": 4,
      "outputs": [
        {
          "output_type": "stream",
          "name": "stdout",
          "text": [
            "torch.Size([4, 10, 8, 16])\n"
          ]
        }
      ]
    },
    {
      "cell_type": "code",
      "source": [
        "torch.Size([4, 10, 8, 16])\n",
        "out2 = torch.nn.Conv2d(C, C_out, kernel_size=(5, 5), padding=(2,2))(x)\n",
        "print(out2.shape) # для самопроверки\n"
      ],
      "metadata": {
        "id": "fWB7New322g9",
        "outputId": "28930bff-3b25-47ab-97f7-5d01b0b8d46d",
        "colab": {
          "base_uri": "https://localhost:8080/"
        }
      },
      "execution_count": 8,
      "outputs": [
        {
          "output_type": "stream",
          "name": "stdout",
          "text": [
            "torch.Size([4, 10, 8, 16])\n"
          ]
        }
      ]
    },
    {
      "cell_type": "code",
      "source": [
        "torch.Size([4, 10, 8, 16])\n",
        "out3 = torch.nn.Conv2d(C, C_out, kernel_size=(7, 7), padding=(3,3))(x)\n",
        "print(out3.shape) # для самопроверки"
      ],
      "metadata": {
        "id": "M1X2brEP22jy",
        "outputId": "ed741a0a-75d8-4e69-a674-7c5365fa50ab",
        "colab": {
          "base_uri": "https://localhost:8080/"
        }
      },
      "execution_count": 9,
      "outputs": [
        {
          "output_type": "stream",
          "name": "stdout",
          "text": [
            "torch.Size([4, 10, 8, 16])\n"
          ]
        }
      ]
    },
    {
      "cell_type": "code",
      "source": [
        "torch.Size([4, 10, 8, 16])\n",
        "out4 = torch.nn.Conv2d(C, C_out, kernel_size=(9, 9), padding=(4,4))(x)\n",
        "print(out4.shape) # для самопроверки\n"
      ],
      "metadata": {
        "id": "xZST5cJz22mR",
        "outputId": "c9ff76a3-9900-415f-b419-ac38d4691c6e",
        "colab": {
          "base_uri": "https://localhost:8080/"
        }
      },
      "execution_count": 10,
      "outputs": [
        {
          "output_type": "stream",
          "name": "stdout",
          "text": [
            "torch.Size([4, 10, 8, 16])\n"
          ]
        }
      ]
    },
    {
      "cell_type": "code",
      "source": [
        "\n",
        "torch.Size([4, 10, 8, 16])\n",
        "out5 = torch.nn.Conv2d(C, C_out, kernel_size=(3, 5), padding=(1,2))(x)\n",
        "print(out5.shape) # для самопроверки\n"
      ],
      "metadata": {
        "id": "JreqxY5x22o3",
        "outputId": "b7264bab-bb45-40cc-fbe9-79aeecf0b34b",
        "colab": {
          "base_uri": "https://localhost:8080/"
        }
      },
      "execution_count": 11,
      "outputs": [
        {
          "output_type": "stream",
          "name": "stdout",
          "text": [
            "torch.Size([4, 10, 8, 16])\n"
          ]
        }
      ]
    },
    {
      "cell_type": "code",
      "source": [
        "torch.Size([4, 10, 22, 30])\n",
        "out6 = torch.nn.Conv2d(C, C_out, kernel_size=(3, 3), padding=(8,8))(x)\n",
        "print(out6.shape) # для самопроверки\n"
      ],
      "metadata": {
        "id": "h2OowFit22sZ",
        "outputId": "875778ea-34be-445e-d48a-aa39b7071790",
        "colab": {
          "base_uri": "https://localhost:8080/"
        }
      },
      "execution_count": 16,
      "outputs": [
        {
          "output_type": "stream",
          "name": "stdout",
          "text": [
            "torch.Size([4, 10, 22, 30])\n"
          ]
        }
      ]
    },
    {
      "cell_type": "code",
      "source": [
        "torch.Size([4, 10, 7, 15])\n",
        "out7 = torch.nn.Conv2d(C, C_out, kernel_size=(4, 4), padding=(1,1))(x)\n",
        "print(out7.shape) # для самопроверки\n",
        "\n"
      ],
      "metadata": {
        "id": "arLVRDks3KZZ",
        "outputId": "34877184-bc5d-4548-d2e6-6b7f014c43d5",
        "colab": {
          "base_uri": "https://localhost:8080/"
        }
      },
      "execution_count": 18,
      "outputs": [
        {
          "output_type": "stream",
          "name": "stdout",
          "text": [
            "torch.Size([4, 10, 7, 15])\n"
          ]
        }
      ]
    },
    {
      "cell_type": "code",
      "source": [
        "torch.Size([4, 10, 9, 17])\n",
        "out8 = torch.nn.Conv2d(C, C_out, kernel_size=(2, 2), padding=(1,1))(x)\n",
        "print(out8.shape) # для самопроверки\n"
      ],
      "metadata": {
        "id": "hiRncx6Y3KcH",
        "outputId": "a527eaeb-1003-419d-d289-d2e2a849ec40",
        "colab": {
          "base_uri": "https://localhost:8080/"
        }
      },
      "execution_count": 19,
      "outputs": [
        {
          "output_type": "stream",
          "name": "stdout",
          "text": [
            "torch.Size([4, 10, 9, 17])\n"
          ]
        }
      ]
    }
  ]
}