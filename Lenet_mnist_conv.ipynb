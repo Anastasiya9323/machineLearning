{
  "nbformat": 4,
  "nbformat_minor": 0,
  "metadata": {
    "colab": {
      "name": "Lenet_mnist_conv.ipynb",
      "provenance": [],
      "include_colab_link": true
    },
    "kernelspec": {
      "name": "python3",
      "display_name": "Python 3"
    },
    "language_info": {
      "name": "python"
    },
    "accelerator": "GPU",
    "gpuClass": "standard"
  },
  "cells": [
    {
      "cell_type": "markdown",
      "metadata": {
        "id": "view-in-github",
        "colab_type": "text"
      },
      "source": [
        "<a href=\"https://colab.research.google.com/github/Anastasiya9323/machineLearning/blob/main/Lenet_mnist_conv.ipynb\" target=\"_parent\"><img src=\"https://colab.research.google.com/assets/colab-badge.svg\" alt=\"Open In Colab\"/></a>"
      ]
    },
    {
      "cell_type": "code",
      "metadata": {
        "id": "8Dv_MP3RFHyt"
      },
      "source": [
        "import torch\n",
        "import random\n",
        "import numpy as np\n",
        "\n",
        "random.seed(0)\n",
        "np.random.seed(0)\n",
        "torch.manual_seed(0)\n",
        "torch.cuda.manual_seed(0)\n",
        "torch.backends.cudnn.deterministic = True"
      ],
      "execution_count": 16,
      "outputs": []
    },
    {
      "cell_type": "code",
      "metadata": {
        "id": "78giIug0FoEo"
      },
      "source": [
        "import torchvision.datasets"
      ],
      "execution_count": 17,
      "outputs": []
    },
    {
      "cell_type": "code",
      "metadata": {
        "id": "XJ-CXwkBFr2-"
      },
      "source": [
        "MNIST_train = torchvision.datasets.MNIST('./', download=True, train=True)\n",
        "MNIST_test = torchvision.datasets.MNIST('./', download=True, train=False)"
      ],
      "execution_count": 18,
      "outputs": []
    },
    {
      "cell_type": "code",
      "metadata": {
        "id": "fyReDSmsFywI"
      },
      "source": [
        "X_train = MNIST_train.train_data\n",
        "y_train = MNIST_train.train_labels\n",
        "X_test = MNIST_test.test_data\n",
        "y_test = MNIST_test.test_labels"
      ],
      "execution_count": 19,
      "outputs": []
    },
    {
      "cell_type": "code",
      "metadata": {
        "id": "eXOpP-5IF61x",
        "outputId": "0eb6f0ed-93e7-4daa-be6f-b948470e1938",
        "colab": {
          "base_uri": "https://localhost:8080/"
        }
      },
      "source": [
        "len(y_train), len(y_test)"
      ],
      "execution_count": 20,
      "outputs": [
        {
          "output_type": "execute_result",
          "data": {
            "text/plain": [
              "(60000, 10000)"
            ]
          },
          "metadata": {},
          "execution_count": 20
        }
      ]
    },
    {
      "cell_type": "code",
      "metadata": {
        "colab": {
          "base_uri": "https://localhost:8080/",
          "height": 282
        },
        "id": "_VpeN-d5F6_Q",
        "outputId": "5da5b2b7-1051-471e-e053-c66a3e77e1a2"
      },
      "source": [
        "import matplotlib.pyplot as plt\n",
        "plt.imshow(X_train[0, :, :])\n",
        "plt.show()\n",
        "print(y_train[0])"
      ],
      "execution_count": 21,
      "outputs": [
        {
          "output_type": "display_data",
          "data": {
            "text/plain": [
              "<Figure size 432x288 with 1 Axes>"
            ],
            "image/png": "[encoded data removed]"
          },
          "metadata": {
            "needs_background": "light"
          }
        },
        {
          "output_type": "stream",
          "name": "stdout",
          "text": [
            "tensor(5)\n"
          ]
        }
      ]
    },
    {
      "cell_type": "code",
      "metadata": {
        "id": "HUEE5YtQF7Ig"
      },
      "source": [
        "X_train = X_train.unsqueeze(1).float()\n",
        "X_test = X_test.unsqueeze(1).float()"
      ],
      "execution_count": 22,
      "outputs": []
    },
    {
      "cell_type": "code",
      "metadata": {
        "id": "Z3km0plLGKH4",
        "outputId": "66d245af-8ff6-45b9-ac00-cf50a3f47b42",
        "colab": {
          "base_uri": "https://localhost:8080/"
        }
      },
      "source": [
        "X_train.shape"
      ],
      "execution_count": 23,
      "outputs": [
        {
          "output_type": "execute_result",
          "data": {
            "text/plain": [
              "torch.Size([60000, 1, 28, 28])"
            ]
          },
          "metadata": {},
          "execution_count": 23
        }
      ]
    },
    {
      "cell_type": "code",
      "metadata": {
        "id": "Xgr387CxGKLY"
      },
      "source": [
        "class LeNet5(torch.nn.Module):\n",
        "    def __init__(self):\n",
        "        super(LeNet5, self).__init__()\n",
        "        \n",
        "        self.conv1 = torch.nn.Conv2d(\n",
        "            in_channels=1, out_channels=6, kernel_size=5, padding=2)\n",
        "        self.act1  = torch.nn.Tanh()\n",
        "        self.pool1 = torch.nn.AvgPool2d(kernel_size=2, stride=2)\n",
        "       \n",
        "        self.conv2 = torch.nn.Conv2d(\n",
        "            in_channels=6, out_channels=16, kernel_size=5, padding=0)\n",
        "        self.act2  = torch.nn.Tanh()\n",
        "        self.pool2 = torch.nn.AvgPool2d(kernel_size=2, stride=2)\n",
        "        \n",
        "        self.fc1   = torch.nn.Linear(5 * 5 * 16, 120)\n",
        "        self.act3  = torch.nn.Tanh()\n",
        "        \n",
        "        self.fc2   = torch.nn.Linear(120, 84)\n",
        "        self.act4  = torch.nn.Tanh()\n",
        "        \n",
        "        self.fc3   = torch.nn.Linear(84, 10)\n",
        "    \n",
        "    def forward(self, x):\n",
        "        \n",
        "        x = self.conv1(x)\n",
        "        x = self.act1(x)\n",
        "        x = self.pool1(x)\n",
        "        \n",
        "        x = self.conv2(x)\n",
        "        x = self.act2(x)\n",
        "        x = self.pool2(x)\n",
        "        \n",
        "        x = x.view(x.size(0), x.size(1) * x.size(2) * x.size(3))\n",
        "\n",
        "        x = self.fc1(x)\n",
        "        x = self.act3(x)\n",
        "        x = self.fc2(x)\n",
        "        x = self.act4(x)\n",
        "        x = self.fc3(x)\n",
        "        \n",
        "        return x\n",
        "    \n",
        "lenet5 = LeNet5()"
      ],
      "execution_count": 24,
      "outputs": []
    },
    {
      "cell_type": "code",
      "metadata": {
        "id": "gmqd8jkdGKO5"
      },
      "source": [
        "device = torch.device('cuda:0' if torch.cuda.is_available() else 'cpu')\n",
        "lenet5 = lenet5.to(device)"
      ],
      "execution_count": 25,
      "outputs": []
    },
    {
      "cell_type": "code",
      "metadata": {
        "id": "iT9Nzo-yGKRs"
      },
      "source": [
        "loss = torch.nn.CrossEntropyLoss()\n",
        "optimizer = torch.optim.Adam(lenet5.parameters(), lr=1.0e-3)"
      ],
      "execution_count": 26,
      "outputs": []
    },
    {
      "cell_type": "code",
      "metadata": {
        "id": "UjopkLcrGZvP",
        "outputId": "6cbde7bc-efcc-4365-d4db-90fe311a1d37",
        "colab": {
          "base_uri": "https://localhost:8080/",
          "height": 1000
        }
      },
      "source": [
        "batch_size = 100\n",
        "\n",
        "test_accuracy_history = []\n",
        "test_loss_history = []\n",
        "\n",
        "X_test = X_test.to(device)\n",
        "y_test = y_test.to(device)\n",
        "\n",
        "for epoch in range(10000):\n",
        "    order = np.random.permutation(len(X_train))\n",
        "    for start_index in range(0, len(X_train), batch_size):\n",
        "        optimizer.zero_grad()\n",
        "        \n",
        "        batch_indexes = order[start_index:start_index+batch_size]\n",
        "        \n",
        "        X_batch = X_train[batch_indexes].to(device)\n",
        "        y_batch = y_train[batch_indexes].to(device)\n",
        "        \n",
        "        preds = lenet5.forward(X_batch) \n",
        "        \n",
        "        loss_value = loss(preds, y_batch)\n",
        "        loss_value.backward()\n",
        "        \n",
        "        optimizer.step()\n",
        "        \n",
        "    test_preds = lenet5.forward(X_test)\n",
        "    test_loss_history.append(loss(test_preds, y_test).data.cpu())\n",
        "    \n",
        "    accuracy = (test_preds.argmax(dim=1) == y_test).float().mean().data.cpu()\n",
        "    test_accuracy_history.append(accuracy)\n",
        "    \n",
        "    print(accuracy)"
      ],
      "execution_count": 27,
      "outputs": [
        {
          "output_type": "stream",
          "name": "stdout",
          "text": [
            "tensor(0.9750)\n",
            "tensor(0.9828)\n",
            "tensor(0.9859)\n",
            "tensor(0.9874)\n",
            "tensor(0.9888)\n",
            "tensor(0.9881)\n",
            "tensor(0.9853)\n",
            "tensor(0.9884)\n",
            "tensor(0.9887)\n",
            "tensor(0.9882)\n",
            "tensor(0.9883)\n",
            "tensor(0.9900)\n",
            "tensor(0.9874)\n",
            "tensor(0.9895)\n",
            "tensor(0.9895)\n",
            "tensor(0.9881)\n",
            "tensor(0.9881)\n",
            "tensor(0.9887)\n",
            "tensor(0.9871)\n",
            "tensor(0.9870)\n",
            "tensor(0.9883)\n",
            "tensor(0.9882)\n",
            "tensor(0.9883)\n",
            "tensor(0.9892)\n",
            "tensor(0.9885)\n",
            "tensor(0.9880)\n",
            "tensor(0.9893)\n",
            "tensor(0.9876)\n",
            "tensor(0.9890)\n",
            "tensor(0.9897)\n",
            "tensor(0.9868)\n",
            "tensor(0.9880)\n",
            "tensor(0.9898)\n",
            "tensor(0.9860)\n",
            "tensor(0.9875)\n",
            "tensor(0.9882)\n",
            "tensor(0.9886)\n",
            "tensor(0.9880)\n",
            "tensor(0.9885)\n",
            "tensor(0.9889)\n",
            "tensor(0.9909)\n",
            "tensor(0.9895)\n",
            "tensor(0.9891)\n",
            "tensor(0.9887)\n",
            "tensor(0.9888)\n",
            "tensor(0.9883)\n",
            "tensor(0.9867)\n",
            "tensor(0.9888)\n",
            "tensor(0.9885)\n",
            "tensor(0.9882)\n",
            "tensor(0.9885)\n",
            "tensor(0.9878)\n",
            "tensor(0.9888)\n",
            "tensor(0.9881)\n",
            "tensor(0.9849)\n",
            "tensor(0.9892)\n",
            "tensor(0.9889)\n",
            "tensor(0.9896)\n",
            "tensor(0.9885)\n",
            "tensor(0.9894)\n",
            "tensor(0.9876)\n",
            "tensor(0.9891)\n",
            "tensor(0.9898)\n",
            "tensor(0.9893)\n",
            "tensor(0.9864)\n",
            "tensor(0.9897)\n",
            "tensor(0.9900)\n",
            "tensor(0.9895)\n",
            "tensor(0.9887)\n",
            "tensor(0.9884)\n",
            "tensor(0.9862)\n",
            "tensor(0.9877)\n",
            "tensor(0.9898)\n",
            "tensor(0.9878)\n",
            "tensor(0.9898)\n",
            "tensor(0.9889)\n",
            "tensor(0.9903)\n",
            "tensor(0.9902)\n",
            "tensor(0.9896)\n",
            "tensor(0.9900)\n",
            "tensor(0.9903)\n",
            "tensor(0.9902)\n",
            "tensor(0.9901)\n",
            "tensor(0.9904)\n",
            "tensor(0.9906)\n",
            "tensor(0.9905)\n",
            "tensor(0.9907)\n",
            "tensor(0.9909)\n",
            "tensor(0.9910)\n",
            "tensor(0.9908)\n",
            "tensor(0.9909)\n",
            "tensor(0.9911)\n",
            "tensor(0.9910)\n",
            "tensor(0.9909)\n",
            "tensor(0.9912)\n",
            "tensor(0.9908)\n",
            "tensor(0.9912)\n",
            "tensor(0.9909)\n",
            "tensor(0.9910)\n",
            "tensor(0.9908)\n",
            "tensor(0.9910)\n",
            "tensor(0.9909)\n",
            "tensor(0.9910)\n",
            "tensor(0.9907)\n",
            "tensor(0.9908)\n",
            "tensor(0.9908)\n",
            "tensor(0.9910)\n",
            "tensor(0.9907)\n",
            "tensor(0.9907)\n",
            "tensor(0.9908)\n",
            "tensor(0.9908)\n",
            "tensor(0.9909)\n",
            "tensor(0.9909)\n",
            "tensor(0.9909)\n",
            "tensor(0.9910)\n",
            "tensor(0.9910)\n",
            "tensor(0.9911)\n",
            "tensor(0.9908)\n",
            "tensor(0.9910)\n",
            "tensor(0.9909)\n",
            "tensor(0.9808)\n",
            "tensor(0.9861)\n",
            "tensor(0.9877)\n",
            "tensor(0.9889)\n",
            "tensor(0.9884)\n",
            "tensor(0.9889)\n",
            "tensor(0.9884)\n",
            "tensor(0.9889)\n",
            "tensor(0.9885)\n",
            "tensor(0.9877)\n",
            "tensor(0.9874)\n",
            "tensor(0.9881)\n",
            "tensor(0.9881)\n",
            "tensor(0.9884)\n",
            "tensor(0.9899)\n",
            "tensor(0.9887)\n",
            "tensor(0.9867)\n",
            "tensor(0.9874)\n",
            "tensor(0.9890)\n",
            "tensor(0.9883)\n",
            "tensor(0.9869)\n",
            "tensor(0.9872)\n",
            "tensor(0.9868)\n",
            "tensor(0.9892)\n",
            "tensor(0.9868)\n",
            "tensor(0.9886)\n",
            "tensor(0.9888)\n",
            "tensor(0.9896)\n",
            "tensor(0.9884)\n",
            "tensor(0.9895)\n",
            "tensor(0.9888)\n",
            "tensor(0.9893)\n",
            "tensor(0.9891)\n",
            "tensor(0.9897)\n",
            "tensor(0.9891)\n",
            "tensor(0.9898)\n",
            "tensor(0.9887)\n",
            "tensor(0.9911)\n",
            "tensor(0.9895)\n",
            "tensor(0.9908)\n",
            "tensor(0.9899)\n",
            "tensor(0.9900)\n",
            "tensor(0.9903)\n",
            "tensor(0.9905)\n",
            "tensor(0.9891)\n",
            "tensor(0.9907)\n",
            "tensor(0.9908)\n",
            "tensor(0.9895)\n",
            "tensor(0.9881)\n",
            "tensor(0.9888)\n",
            "tensor(0.9891)\n",
            "tensor(0.9907)\n",
            "tensor(0.9883)\n",
            "tensor(0.9880)\n",
            "tensor(0.9880)\n",
            "tensor(0.9894)\n",
            "tensor(0.9883)\n",
            "tensor(0.9895)\n",
            "tensor(0.9893)\n",
            "tensor(0.9896)\n",
            "tensor(0.9892)\n",
            "tensor(0.9874)\n",
            "tensor(0.9884)\n",
            "tensor(0.9868)\n",
            "tensor(0.9888)\n",
            "tensor(0.9881)\n",
            "tensor(0.9884)\n",
            "tensor(0.9877)\n",
            "tensor(0.9899)\n",
            "tensor(0.9899)\n",
            "tensor(0.9895)\n",
            "tensor(0.9883)\n",
            "tensor(0.9885)\n",
            "tensor(0.9876)\n",
            "tensor(0.9887)\n",
            "tensor(0.9903)\n",
            "tensor(0.9901)\n",
            "tensor(0.9911)\n",
            "tensor(0.9909)\n",
            "tensor(0.9906)\n",
            "tensor(0.9907)\n",
            "tensor(0.9909)\n",
            "tensor(0.9910)\n",
            "tensor(0.9909)\n",
            "tensor(0.9909)\n",
            "tensor(0.9910)\n",
            "tensor(0.9911)\n",
            "tensor(0.9910)\n",
            "tensor(0.9910)\n",
            "tensor(0.9911)\n",
            "tensor(0.9909)\n",
            "tensor(0.9910)\n",
            "tensor(0.9911)\n",
            "tensor(0.9911)\n",
            "tensor(0.9912)\n",
            "tensor(0.9910)\n",
            "tensor(0.9913)\n",
            "tensor(0.9910)\n",
            "tensor(0.9912)\n",
            "tensor(0.9910)\n",
            "tensor(0.9912)\n",
            "tensor(0.9912)\n",
            "tensor(0.9910)\n",
            "tensor(0.9910)\n",
            "tensor(0.9914)\n",
            "tensor(0.9915)\n",
            "tensor(0.9916)\n",
            "tensor(0.9913)\n",
            "tensor(0.9917)\n",
            "tensor(0.9916)\n",
            "tensor(0.9915)\n",
            "tensor(0.9914)\n",
            "tensor(0.9916)\n",
            "tensor(0.9916)\n",
            "tensor(0.9917)\n",
            "tensor(0.9915)\n",
            "tensor(0.9917)\n",
            "tensor(0.9916)\n",
            "tensor(0.9914)\n",
            "tensor(0.9843)\n",
            "tensor(0.9876)\n",
            "tensor(0.9886)\n",
            "tensor(0.9870)\n",
            "tensor(0.9881)\n",
            "tensor(0.9882)\n",
            "tensor(0.9895)\n",
            "tensor(0.9890)\n",
            "tensor(0.9891)\n",
            "tensor(0.9885)\n",
            "tensor(0.9887)\n",
            "tensor(0.9889)\n",
            "tensor(0.9884)\n",
            "tensor(0.9883)\n",
            "tensor(0.9887)\n",
            "tensor(0.9897)\n",
            "tensor(0.9888)\n",
            "tensor(0.9887)\n",
            "tensor(0.9897)\n",
            "tensor(0.9886)\n",
            "tensor(0.9893)\n",
            "tensor(0.9880)\n",
            "tensor(0.9891)\n",
            "tensor(0.9893)\n",
            "tensor(0.9886)\n",
            "tensor(0.9886)\n",
            "tensor(0.9875)\n",
            "tensor(0.9885)\n",
            "tensor(0.9876)\n",
            "tensor(0.9883)\n",
            "tensor(0.9893)\n",
            "tensor(0.9885)\n",
            "tensor(0.9887)\n",
            "tensor(0.9874)\n",
            "tensor(0.9881)\n",
            "tensor(0.9890)\n",
            "tensor(0.9880)\n",
            "tensor(0.9883)\n",
            "tensor(0.9888)\n",
            "tensor(0.9885)\n",
            "tensor(0.9889)\n",
            "tensor(0.9883)\n",
            "tensor(0.9874)\n",
            "tensor(0.9881)\n",
            "tensor(0.9893)\n",
            "tensor(0.9892)\n",
            "tensor(0.9877)\n",
            "tensor(0.9887)\n",
            "tensor(0.9887)\n",
            "tensor(0.9890)\n",
            "tensor(0.9886)\n",
            "tensor(0.9892)\n",
            "tensor(0.9877)\n",
            "tensor(0.9872)\n",
            "tensor(0.9877)\n",
            "tensor(0.9889)\n",
            "tensor(0.9894)\n",
            "tensor(0.9888)\n",
            "tensor(0.9890)\n"
          ]
        },
        {
          "output_type": "error",
          "ename": "KeyboardInterrupt",
          "evalue": "ignored",
          "traceback": [
            "\u001b[0;31m---------------------------------------------------------------------------\u001b[0m",
            "\u001b[0;31mKeyboardInterrupt\u001b[0m                         Traceback (most recent call last)",
            "\u001b[0;32m<ipython-input-27-292baea311d4>\u001b[0m in \u001b[0;36m<module>\u001b[0;34m\u001b[0m\n\u001b[1;32m     20\u001b[0m \u001b[0;34m\u001b[0m\u001b[0m\n\u001b[1;32m     21\u001b[0m         \u001b[0mloss_value\u001b[0m \u001b[0;34m=\u001b[0m \u001b[0mloss\u001b[0m\u001b[0;34m(\u001b[0m\u001b[0mpreds\u001b[0m\u001b[0;34m,\u001b[0m \u001b[0my_batch\u001b[0m\u001b[0;34m)\u001b[0m\u001b[0;34m\u001b[0m\u001b[0;34m\u001b[0m\u001b[0m\n\u001b[0;32m---> 22\u001b[0;31m         \u001b[0mloss_value\u001b[0m\u001b[0;34m.\u001b[0m\u001b[0mbackward\u001b[0m\u001b[0;34m(\u001b[0m\u001b[0;34m)\u001b[0m\u001b[0;34m\u001b[0m\u001b[0;34m\u001b[0m\u001b[0m\n\u001b[0m\u001b[1;32m     23\u001b[0m \u001b[0;34m\u001b[0m\u001b[0m\n\u001b[1;32m     24\u001b[0m         \u001b[0moptimizer\u001b[0m\u001b[0;34m.\u001b[0m\u001b[0mstep\u001b[0m\u001b[0;34m(\u001b[0m\u001b[0;34m)\u001b[0m\u001b[0;34m\u001b[0m\u001b[0;34m\u001b[0m\u001b[0m\n",
            "\u001b[0;32m/usr/local/lib/python3.7/dist-packages/torch/_tensor.py\u001b[0m in \u001b[0;36mbackward\u001b[0;34m(self, gradient, retain_graph, create_graph, inputs)\u001b[0m\n\u001b[1;32m    394\u001b[0m                 \u001b[0mcreate_graph\u001b[0m\u001b[0;34m=\u001b[0m\u001b[0mcreate_graph\u001b[0m\u001b[0;34m,\u001b[0m\u001b[0;34m\u001b[0m\u001b[0;34m\u001b[0m\u001b[0m\n\u001b[1;32m    395\u001b[0m                 inputs=inputs)\n\u001b[0;32m--> 396\u001b[0;31m         \u001b[0mtorch\u001b[0m\u001b[0;34m.\u001b[0m\u001b[0mautograd\u001b[0m\u001b[0;34m.\u001b[0m\u001b[0mbackward\u001b[0m\u001b[0;34m(\u001b[0m\u001b[0mself\u001b[0m\u001b[0;34m,\u001b[0m \u001b[0mgradient\u001b[0m\u001b[0;34m,\u001b[0m \u001b[0mretain_graph\u001b[0m\u001b[0;34m,\u001b[0m \u001b[0mcreate_graph\u001b[0m\u001b[0;34m,\u001b[0m \u001b[0minputs\u001b[0m\u001b[0;34m=\u001b[0m\u001b[0minputs\u001b[0m\u001b[0;34m)\u001b[0m\u001b[0;34m\u001b[0m\u001b[0;34m\u001b[0m\u001b[0m\n\u001b[0m\u001b[1;32m    397\u001b[0m \u001b[0;34m\u001b[0m\u001b[0m\n\u001b[1;32m    398\u001b[0m     \u001b[0;32mdef\u001b[0m \u001b[0mregister_hook\u001b[0m\u001b[0;34m(\u001b[0m\u001b[0mself\u001b[0m\u001b[0;34m,\u001b[0m \u001b[0mhook\u001b[0m\u001b[0;34m)\u001b[0m\u001b[0;34m:\u001b[0m\u001b[0;34m\u001b[0m\u001b[0;34m\u001b[0m\u001b[0m\n",
            "\u001b[0;32m/usr/local/lib/python3.7/dist-packages/torch/autograd/__init__.py\u001b[0m in \u001b[0;36mbackward\u001b[0;34m(tensors, grad_tensors, retain_graph, create_graph, grad_variables, inputs)\u001b[0m\n\u001b[1;32m    173\u001b[0m     Variable._execution_engine.run_backward(  # Calls into the C++ engine to run the backward pass\n\u001b[1;32m    174\u001b[0m         \u001b[0mtensors\u001b[0m\u001b[0;34m,\u001b[0m \u001b[0mgrad_tensors_\u001b[0m\u001b[0;34m,\u001b[0m \u001b[0mretain_graph\u001b[0m\u001b[0;34m,\u001b[0m \u001b[0mcreate_graph\u001b[0m\u001b[0;34m,\u001b[0m \u001b[0minputs\u001b[0m\u001b[0;34m,\u001b[0m\u001b[0;34m\u001b[0m\u001b[0;34m\u001b[0m\u001b[0m\n\u001b[0;32m--> 175\u001b[0;31m         allow_unreachable=True, accumulate_grad=True)  # Calls into the C++ engine to run the backward pass\n\u001b[0m\u001b[1;32m    176\u001b[0m \u001b[0;34m\u001b[0m\u001b[0m\n\u001b[1;32m    177\u001b[0m def grad(\n",
            "\u001b[0;31mKeyboardInterrupt\u001b[0m: "
          ]
        }
      ]
    },
    {
      "cell_type": "code",
      "metadata": {
        "id": "rholA_D0GZz8",
        "outputId": "56764f36-79ab-437f-b33b-2f9b5b0c8b85",
        "colab": {
          "base_uri": "https://localhost:8080/"
        }
      },
      "source": [
        "lenet5.forward(X_test)"
      ],
      "execution_count": 28,
      "outputs": [
        {
          "output_type": "execute_result",
          "data": {
            "text/plain": [
              "tensor([[ -8.4771,   2.9487,   1.2002,  ...,  30.6569, -10.9733,   6.8793],\n",
              "        [  4.8645,  -4.0331,  33.8957,  ...,  -6.7777,   7.0441, -10.4184],\n",
              "        [-12.1069,  32.4374,  -3.2685,  ...,  -0.3493,   8.4763, -10.1774],\n",
              "        ...,\n",
              "        [-13.9389,  -1.9585,  -6.7393,  ...,   0.2293,   0.2443,   7.7333],\n",
              "        [  1.3940, -10.7109, -10.7477,  ..., -14.8865,   7.8942,  -2.7812],\n",
              "        [  2.9169,  -6.6399,   8.0756,  ..., -15.7976,   6.3267, -13.8639]],\n",
              "       device='cuda:0', grad_fn=<AddmmBackward0>)"
            ]
          },
          "metadata": {},
          "execution_count": 28
        }
      ]
    },
    {
      "cell_type": "code",
      "metadata": {
        "colab": {
          "base_uri": "https://localhost:8080/",
          "height": 269
        },
        "id": "nQd9bHEiGZ35",
        "outputId": "9301ecfa-fdac-4c46-b3e7-ebcd603fb240"
      },
      "source": [
        "plt.plot(test_accuracy_history);"
      ],
      "execution_count": 29,
      "outputs": [
        {
          "output_type": "display_data",
          "data": {
            "text/plain": [
              "<Figure size 432x288 with 1 Axes>"
            ],
            "image/png": "[encoded data removed]"
          },
          "metadata": {
            "needs_background": "light"
          }
        }
      ]
    },
    {
      "cell_type": "code",
      "metadata": {
        "colab": {
          "base_uri": "https://localhost:8080/",
          "height": 265
        },
        "id": "PVrly96bGaEV",
        "outputId": "e23ef6dd-cc7b-4a57-e6cf-c464dfc5d4ba"
      },
      "source": [
        "plt.plot(test_loss_history);"
      ],
      "execution_count": 30,
      "outputs": [
        {
          "output_type": "display_data",
          "data": {
            "text/plain": [
              "<Figure size 432x288 with 1 Axes>"
            ],
            "image/png": "[encoded data removed]"
          },
          "metadata": {
            "needs_background": "light"
          }
        }
      ]
    }
  ]
}