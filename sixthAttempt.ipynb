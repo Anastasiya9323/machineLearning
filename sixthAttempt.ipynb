{
  "nbformat": 4,
  "nbformat_minor": 0,
  "metadata": {
    "colab": {
      "name": "Lenet_mnist_conv.ipynb",
      "provenance": [],
      "include_colab_link": true
    },
    "kernelspec": {
      "name": "python3",
      "display_name": "Python 3"
    },
    "language_info": {
      "name": "python"
    },
    "accelerator": "GPU",
    "gpuClass": "standard"
  },
  "cells": [
    {
      "cell_type": "markdown",
      "metadata": {
        "id": "view-in-github",
        "colab_type": "text"
      },
      "source": [
        "<a href=\"https://colab.research.google.com/github/Anastasiya9323/machineLearning/blob/main/sixthAttempt.ipynb\" target=\"_parent\"><img src=\"https://colab.research.google.com/assets/colab-badge.svg\" alt=\"Open In Colab\"/></a>"
      ]
    },
    {
      "cell_type": "code",
      "metadata": {
        "id": "8Dv_MP3RFHyt"
      },
      "source": [
        "import torch\n",
        "import random\n",
        "import numpy as np\n",
        "\n",
        "random.seed(0)\n",
        "np.random.seed(0)\n",
        "torch.manual_seed(0)\n",
        "torch.cuda.manual_seed(0)\n",
        "torch.backends.cudnn.deterministic = True"
      ],
      "execution_count": 88,
      "outputs": []
    },
    {
      "cell_type": "code",
      "metadata": {
        "id": "78giIug0FoEo"
      },
      "source": [
        "import torchvision.datasets"
      ],
      "execution_count": 89,
      "outputs": []
    },
    {
      "cell_type": "code",
      "metadata": {
        "id": "XJ-CXwkBFr2-"
      },
      "source": [
        "MNIST_train = torchvision.datasets.MNIST('./', download=True, train=True)\n",
        "MNIST_test = torchvision.datasets.MNIST('./', download=True, train=False)"
      ],
      "execution_count": 90,
      "outputs": []
    },
    {
      "cell_type": "code",
      "metadata": {
        "id": "fyReDSmsFywI"
      },
      "source": [
        "X_train = MNIST_train.train_data\n",
        "y_train = MNIST_train.train_labels\n",
        "X_test = MNIST_test.test_data\n",
        "y_test = MNIST_test.test_labels"
      ],
      "execution_count": 91,
      "outputs": []
    },
    {
      "cell_type": "code",
      "metadata": {
        "id": "eXOpP-5IF61x",
        "outputId": "d0df189c-c2a5-44a1-d5ae-6d12a34ae460",
        "colab": {
          "base_uri": "https://localhost:8080/"
        }
      },
      "source": [
        "len(y_train), len(y_test)"
      ],
      "execution_count": 92,
      "outputs": [
        {
          "output_type": "execute_result",
          "data": {
            "text/plain": [
              "(60000, 10000)"
            ]
          },
          "metadata": {},
          "execution_count": 92
        }
      ]
    },
    {
      "cell_type": "code",
      "metadata": {
        "colab": {
          "base_uri": "https://localhost:8080/",
          "height": 282
        },
        "id": "_VpeN-d5F6_Q",
        "outputId": "cfc79bfa-202f-4776-919e-973c992c727b"
      },
      "source": [
        "import matplotlib.pyplot as plt\n",
        "plt.imshow(X_train[0, :, :])\n",
        "plt.show()\n",
        "print(y_train[0])"
      ],
      "execution_count": 93,
      "outputs": [
        {
          "output_type": "display_data",
          "data": {
            "text/plain": [
              "<Figure size 432x288 with 1 Axes>"
            ],
            "image/png": "[encoded data removed]"
          },
          "metadata": {
            "needs_background": "light"
          }
        },
        {
          "output_type": "stream",
          "name": "stdout",
          "text": [
            "tensor(5)\n"
          ]
        }
      ]
    },
    {
      "cell_type": "code",
      "metadata": {
        "id": "HUEE5YtQF7Ig"
      },
      "source": [
        "X_train = X_train.unsqueeze(1).float()\n",
        "X_test = X_test.unsqueeze(1).float()"
      ],
      "execution_count": 94,
      "outputs": []
    },
    {
      "cell_type": "code",
      "metadata": {
        "id": "Z3km0plLGKH4",
        "outputId": "df7b98c1-b2eb-4f46-eb7f-265c6d565dff",
        "colab": {
          "base_uri": "https://localhost:8080/"
        }
      },
      "source": [
        "X_train.shape"
      ],
      "execution_count": 95,
      "outputs": [
        {
          "output_type": "execute_result",
          "data": {
            "text/plain": [
              "torch.Size([60000, 1, 28, 28])"
            ]
          },
          "metadata": {},
          "execution_count": 95
        }
      ]
    },
    {
      "cell_type": "code",
      "metadata": {
        "id": "Xgr387CxGKLY"
      },
      "source": [
        "class LeNet5(torch.nn.Module):\n",
        "    def __init__(self):\n",
        "        super(LeNet5, self).__init__()\n",
        "        \n",
        "        self.conv1 = torch.nn.Conv2d(\n",
        "            in_channels=1, out_channels=6, kernel_size=5, padding=2)\n",
        "        self.act1  = torch.nn.ELU()\n",
        "        self.pool1 = torch.nn.MaxPool2d(kernel_size=2, stride=2)\n",
        "       \n",
        "        self.conv2 = torch.nn.Conv2d(\n",
        "            in_channels=6, out_channels=16, kernel_size=5, padding=0)\n",
        "        self.act2  = torch.nn.ELU()\n",
        "        self.pool2 = torch.nn.MaxPool2d(kernel_size=2, stride=2)\n",
        "\n",
        "        self.conv3 = torch.nn.Conv2d(\n",
        "             in_channels=16, out_channels=32, kernel_size=5, padding=2)\n",
        "        self.act6 = torch.nn.ELU()\n",
        "        \n",
        "        self.fc1   = torch.nn.Linear(5 * 5 * 32, 120)\n",
        "        self.act3  = torch.nn.ELU()\n",
        "\n",
        "        self.fc2   = torch.nn.Linear(120, 84)\n",
        "        self.act4  = torch.nn.ELU()\n",
        "\n",
        "        self.fc4 = torch.nn.Linear(84, 42)\n",
        "        self.act5 = torch.nn.ELU()\n",
        "\n",
        "        self.fc3   = torch.nn.Linear(42, 10)\n",
        "    \n",
        "    def forward(self, x):\n",
        "        \n",
        "        x = self.conv1(x)\n",
        "        x = self.act1(x)\n",
        "        x = self.pool1(x)\n",
        "        \n",
        "        x = self.conv2(x)\n",
        "        x = self.act2(x)\n",
        "        x = self.pool2(x)\n",
        "\n",
        "        x = self.conv3(x)\n",
        "        x = self.act6(x)\n",
        "        \n",
        "        x = x.view(x.size(0), x.size(1) * x.size(2) * x.size(3))\n",
        "\n",
        "        x = self.fc1(x)\n",
        "        x = self.act3(x)\n",
        "        x = self.fc2(x)\n",
        "        x = self.act4(x)\n",
        "        x = self.fc4(x)\n",
        "        x = self.act5(x)\n",
        "        x = self.fc3(x)\n",
        "        \n",
        "        return x\n",
        "    \n",
        "lenet5 = LeNet5()"
      ],
      "execution_count": 96,
      "outputs": []
    },
    {
      "cell_type": "code",
      "metadata": {
        "id": "gmqd8jkdGKO5"
      },
      "source": [
        "device = torch.device('cuda:0' if torch.cuda.is_available() else 'cpu')\n",
        "lenet5 = lenet5.to(device)"
      ],
      "execution_count": 97,
      "outputs": []
    },
    {
      "cell_type": "code",
      "metadata": {
        "id": "iT9Nzo-yGKRs"
      },
      "source": [
        "loss = torch.nn.CrossEntropyLoss()\n",
        "optimizer = torch.optim.Adam(lenet5.parameters(), lr=1.0e-4)"
      ],
      "execution_count": 98,
      "outputs": []
    },
    {
      "cell_type": "code",
      "metadata": {
        "id": "UjopkLcrGZvP",
        "outputId": "8ad4afd2-dbe9-4af5-8823-b4c86a7fa798",
        "colab": {
          "base_uri": "https://localhost:8080/"
        }
      },
      "source": [
        "batch_size = 100\n",
        "\n",
        "train_accuracy_history = []\n",
        "train_loss_history = []\n",
        "\n",
        "test_accuracy_history = []\n",
        "test_loss_history = []\n",
        "\n",
        "X_test = X_test.to(device)\n",
        "y_test = y_test.to(device)\n",
        "best_accuraccy = 0\n",
        "\n",
        "for epoch in range(400):\n",
        "    order = np.random.permutation(len(X_train))\n",
        "    train_preds = torch.zeros([X_train.shape[0], 10], dtype=torch.float)\n",
        "    train_batch_loss_history = []\n",
        "    for start_index in range(0, len(X_train), batch_size):\n",
        "        optimizer.zero_grad()\n",
        "        \n",
        "        batch_indexes = order[start_index:start_index+batch_size]\n",
        "        \n",
        "        X_batch = X_train[batch_indexes].to(device)\n",
        "        y_batch = y_train[batch_indexes].to(device)\n",
        "        \n",
        "        preds = lenet5.forward(X_batch) \n",
        "        \n",
        "        loss_value = loss(preds, y_batch)\n",
        "        loss_value.backward()\n",
        "\n",
        "        train_batch_loss_history.append(loss_value.tolist())\n",
        "        train_preds[batch_indexes] = preds.cpu()\n",
        "        \n",
        "        optimizer.step()\n",
        "        \n",
        "    train_loss_history.append(np.mean(train_batch_loss_history))\n",
        "    \n",
        "    accuracy_train = (train_preds.argmax(dim=1) == y_train).float().mean().cpu()\n",
        "    train_accuracy_history.append(accuracy_train)\n",
        "        \n",
        "    test_preds = lenet5.forward(X_test)\n",
        "    test_loss_history.append(loss(test_preds, y_test).data.cpu())\n",
        "    \n",
        "    accuracy = (test_preds.argmax(dim=1) == y_test).float().mean().data.cpu()\n",
        "    test_accuracy_history.append(accuracy)\n",
        "    \n",
        "    print((epoch+1),\": \",accuracy)\n",
        "    if accuracy  > best_accuraccy:\n",
        "        best_accuraccy = accuracy \n",
        "print(best_accuraccy)"
      ],
      "execution_count": 99,
      "outputs": [
        {
          "output_type": "stream",
          "name": "stdout",
          "text": [
            "1 :  tensor(0.9617)\n",
            "2 :  tensor(0.9743)\n",
            "3 :  tensor(0.9775)\n",
            "4 :  tensor(0.9837)\n",
            "5 :  tensor(0.9823)\n",
            "6 :  tensor(0.9813)\n",
            "7 :  tensor(0.9872)\n",
            "8 :  tensor(0.9871)\n",
            "9 :  tensor(0.9875)\n",
            "10 :  tensor(0.9868)\n",
            "11 :  tensor(0.9881)\n",
            "12 :  tensor(0.9895)\n",
            "13 :  tensor(0.9877)\n",
            "14 :  tensor(0.9872)\n",
            "15 :  tensor(0.9885)\n",
            "16 :  tensor(0.9880)\n",
            "17 :  tensor(0.9894)\n",
            "18 :  tensor(0.9891)\n",
            "19 :  tensor(0.9890)\n",
            "20 :  tensor(0.9899)\n",
            "21 :  tensor(0.9892)\n",
            "22 :  tensor(0.9900)\n",
            "23 :  tensor(0.9898)\n",
            "24 :  tensor(0.9910)\n",
            "25 :  tensor(0.9900)\n",
            "26 :  tensor(0.9895)\n",
            "27 :  tensor(0.9909)\n",
            "28 :  tensor(0.9892)\n",
            "29 :  tensor(0.9909)\n",
            "30 :  tensor(0.9910)\n",
            "31 :  tensor(0.9897)\n",
            "32 :  tensor(0.9887)\n",
            "33 :  tensor(0.9860)\n",
            "34 :  tensor(0.9875)\n",
            "35 :  tensor(0.9902)\n",
            "36 :  tensor(0.9916)\n",
            "37 :  tensor(0.9908)\n",
            "38 :  tensor(0.9910)\n",
            "39 :  tensor(0.9916)\n",
            "40 :  tensor(0.9909)\n",
            "41 :  tensor(0.9914)\n",
            "42 :  tensor(0.9919)\n",
            "43 :  tensor(0.9917)\n",
            "44 :  tensor(0.9916)\n",
            "45 :  tensor(0.9918)\n",
            "46 :  tensor(0.9918)\n",
            "47 :  tensor(0.9881)\n",
            "48 :  tensor(0.9907)\n",
            "49 :  tensor(0.9898)\n",
            "50 :  tensor(0.9895)\n",
            "51 :  tensor(0.9896)\n",
            "52 :  tensor(0.9915)\n",
            "53 :  tensor(0.9915)\n",
            "54 :  tensor(0.9920)\n",
            "55 :  tensor(0.9916)\n",
            "56 :  tensor(0.9917)\n",
            "57 :  tensor(0.9920)\n",
            "58 :  tensor(0.9913)\n",
            "59 :  tensor(0.9912)\n",
            "60 :  tensor(0.9891)\n",
            "61 :  tensor(0.9887)\n",
            "62 :  tensor(0.9910)\n",
            "63 :  tensor(0.9917)\n",
            "64 :  tensor(0.9911)\n",
            "65 :  tensor(0.9902)\n",
            "66 :  tensor(0.9910)\n",
            "67 :  tensor(0.9898)\n",
            "68 :  tensor(0.9903)\n",
            "69 :  tensor(0.9877)\n",
            "70 :  tensor(0.9917)\n",
            "71 :  tensor(0.9890)\n",
            "72 :  tensor(0.9910)\n",
            "73 :  tensor(0.9911)\n",
            "74 :  tensor(0.9919)\n",
            "75 :  tensor(0.9922)\n",
            "76 :  tensor(0.9922)\n",
            "77 :  tensor(0.9923)\n",
            "78 :  tensor(0.9919)\n",
            "79 :  tensor(0.9923)\n",
            "80 :  tensor(0.9924)\n",
            "81 :  tensor(0.9922)\n",
            "82 :  tensor(0.9923)\n",
            "83 :  tensor(0.9924)\n",
            "84 :  tensor(0.9925)\n",
            "85 :  tensor(0.9924)\n",
            "86 :  tensor(0.9924)\n",
            "87 :  tensor(0.9926)\n",
            "88 :  tensor(0.9903)\n",
            "89 :  tensor(0.9905)\n",
            "90 :  tensor(0.9915)\n",
            "91 :  tensor(0.9916)\n",
            "92 :  tensor(0.9917)\n",
            "93 :  tensor(0.9918)\n",
            "94 :  tensor(0.9917)\n",
            "95 :  tensor(0.9916)\n",
            "96 :  tensor(0.9915)\n",
            "97 :  tensor(0.9914)\n",
            "98 :  tensor(0.9917)\n",
            "99 :  tensor(0.9915)\n",
            "100 :  tensor(0.9918)\n",
            "101 :  tensor(0.9916)\n",
            "102 :  tensor(0.9917)\n",
            "103 :  tensor(0.9916)\n",
            "104 :  tensor(0.9919)\n",
            "105 :  tensor(0.9919)\n",
            "106 :  tensor(0.9919)\n",
            "107 :  tensor(0.9919)\n",
            "108 :  tensor(0.9920)\n",
            "109 :  tensor(0.9917)\n",
            "110 :  tensor(0.9923)\n",
            "111 :  tensor(0.9920)\n",
            "112 :  tensor(0.9919)\n",
            "113 :  tensor(0.9920)\n",
            "114 :  tensor(0.9883)\n",
            "115 :  tensor(0.9899)\n",
            "116 :  tensor(0.9906)\n",
            "117 :  tensor(0.9891)\n",
            "118 :  tensor(0.9903)\n",
            "119 :  tensor(0.9912)\n",
            "120 :  tensor(0.9916)\n",
            "121 :  tensor(0.9915)\n",
            "122 :  tensor(0.9917)\n",
            "123 :  tensor(0.9918)\n",
            "124 :  tensor(0.9918)\n",
            "125 :  tensor(0.9919)\n",
            "126 :  tensor(0.9918)\n",
            "127 :  tensor(0.9919)\n",
            "128 :  tensor(0.9920)\n",
            "129 :  tensor(0.9920)\n",
            "130 :  tensor(0.9920)\n",
            "131 :  tensor(0.9919)\n",
            "132 :  tensor(0.9920)\n",
            "133 :  tensor(0.9920)\n",
            "134 :  tensor(0.9921)\n",
            "135 :  tensor(0.9920)\n",
            "136 :  tensor(0.9920)\n",
            "137 :  tensor(0.9921)\n",
            "138 :  tensor(0.9920)\n",
            "139 :  tensor(0.9921)\n",
            "140 :  tensor(0.9922)\n",
            "141 :  tensor(0.9925)\n",
            "142 :  tensor(0.9921)\n",
            "143 :  tensor(0.9925)\n",
            "144 :  tensor(0.9925)\n",
            "145 :  tensor(0.9926)\n",
            "146 :  tensor(0.9926)\n",
            "147 :  tensor(0.9924)\n",
            "148 :  tensor(0.9913)\n",
            "149 :  tensor(0.9918)\n",
            "150 :  tensor(0.9922)\n",
            "151 :  tensor(0.9924)\n",
            "152 :  tensor(0.9924)\n",
            "153 :  tensor(0.9923)\n",
            "154 :  tensor(0.9923)\n",
            "155 :  tensor(0.9921)\n",
            "156 :  tensor(0.9920)\n",
            "157 :  tensor(0.9921)\n",
            "158 :  tensor(0.9921)\n",
            "159 :  tensor(0.9923)\n",
            "160 :  tensor(0.9921)\n",
            "161 :  tensor(0.9923)\n",
            "162 :  tensor(0.9922)\n",
            "163 :  tensor(0.9922)\n",
            "164 :  tensor(0.9923)\n",
            "165 :  tensor(0.9922)\n",
            "166 :  tensor(0.9926)\n",
            "167 :  tensor(0.9925)\n",
            "168 :  tensor(0.9927)\n",
            "169 :  tensor(0.9926)\n",
            "170 :  tensor(0.9924)\n",
            "171 :  tensor(0.9924)\n",
            "172 :  tensor(0.9928)\n",
            "173 :  tensor(0.9926)\n",
            "174 :  tensor(0.9928)\n",
            "175 :  tensor(0.9927)\n",
            "176 :  tensor(0.9929)\n",
            "177 :  tensor(0.9929)\n",
            "178 :  tensor(0.9927)\n",
            "179 :  tensor(0.9927)\n",
            "180 :  tensor(0.9929)\n",
            "181 :  tensor(0.9928)\n",
            "182 :  tensor(0.9925)\n",
            "183 :  tensor(0.9928)\n",
            "184 :  tensor(0.9931)\n",
            "185 :  tensor(0.9929)\n",
            "186 :  tensor(0.9926)\n",
            "187 :  tensor(0.9927)\n",
            "188 :  tensor(0.9924)\n",
            "189 :  tensor(0.9923)\n",
            "190 :  tensor(0.9924)\n",
            "191 :  tensor(0.9788)\n",
            "192 :  tensor(0.9902)\n",
            "193 :  tensor(0.9909)\n",
            "194 :  tensor(0.9913)\n",
            "195 :  tensor(0.9913)\n",
            "196 :  tensor(0.9914)\n",
            "197 :  tensor(0.9914)\n",
            "198 :  tensor(0.9915)\n",
            "199 :  tensor(0.9916)\n",
            "200 :  tensor(0.9914)\n",
            "201 :  tensor(0.9914)\n",
            "202 :  tensor(0.9913)\n",
            "203 :  tensor(0.9913)\n",
            "204 :  tensor(0.9916)\n",
            "205 :  tensor(0.9915)\n",
            "206 :  tensor(0.9916)\n",
            "207 :  tensor(0.9916)\n",
            "208 :  tensor(0.9916)\n",
            "209 :  tensor(0.9919)\n",
            "210 :  tensor(0.9919)\n",
            "211 :  tensor(0.9922)\n",
            "212 :  tensor(0.9923)\n",
            "213 :  tensor(0.9922)\n",
            "214 :  tensor(0.9923)\n",
            "215 :  tensor(0.9923)\n",
            "216 :  tensor(0.9926)\n",
            "217 :  tensor(0.9927)\n",
            "218 :  tensor(0.9926)\n",
            "219 :  tensor(0.9924)\n",
            "220 :  tensor(0.9928)\n",
            "221 :  tensor(0.9928)\n",
            "222 :  tensor(0.9927)\n",
            "223 :  tensor(0.9925)\n",
            "224 :  tensor(0.9928)\n",
            "225 :  tensor(0.9930)\n",
            "226 :  tensor(0.9929)\n",
            "227 :  tensor(0.9929)\n",
            "228 :  tensor(0.9928)\n",
            "229 :  tensor(0.9926)\n",
            "230 :  tensor(0.9926)\n",
            "231 :  tensor(0.9926)\n",
            "232 :  tensor(0.9924)\n",
            "233 :  tensor(0.9926)\n",
            "234 :  tensor(0.9924)\n",
            "235 :  tensor(0.9927)\n",
            "236 :  tensor(0.9925)\n",
            "237 :  tensor(0.9923)\n",
            "238 :  tensor(0.9923)\n",
            "239 :  tensor(0.9844)\n",
            "240 :  tensor(0.9888)\n",
            "241 :  tensor(0.9905)\n",
            "242 :  tensor(0.9908)\n",
            "243 :  tensor(0.9908)\n",
            "244 :  tensor(0.9911)\n",
            "245 :  tensor(0.9911)\n",
            "246 :  tensor(0.9911)\n",
            "247 :  tensor(0.9910)\n",
            "248 :  tensor(0.9912)\n",
            "249 :  tensor(0.9912)\n",
            "250 :  tensor(0.9915)\n",
            "251 :  tensor(0.9915)\n",
            "252 :  tensor(0.9915)\n",
            "253 :  tensor(0.9915)\n",
            "254 :  tensor(0.9915)\n",
            "255 :  tensor(0.9915)\n",
            "256 :  tensor(0.9916)\n",
            "257 :  tensor(0.9915)\n",
            "258 :  tensor(0.9914)\n",
            "259 :  tensor(0.9913)\n",
            "260 :  tensor(0.9912)\n",
            "261 :  tensor(0.9913)\n",
            "262 :  tensor(0.9916)\n",
            "263 :  tensor(0.9916)\n",
            "264 :  tensor(0.9917)\n",
            "265 :  tensor(0.9917)\n",
            "266 :  tensor(0.9918)\n",
            "267 :  tensor(0.9919)\n",
            "268 :  tensor(0.9920)\n",
            "269 :  tensor(0.9919)\n",
            "270 :  tensor(0.9920)\n",
            "271 :  tensor(0.9921)\n",
            "272 :  tensor(0.9921)\n",
            "273 :  tensor(0.9920)\n",
            "274 :  tensor(0.9920)\n",
            "275 :  tensor(0.9922)\n",
            "276 :  tensor(0.9922)\n",
            "277 :  tensor(0.9922)\n",
            "278 :  tensor(0.9923)\n",
            "279 :  tensor(0.9921)\n",
            "280 :  tensor(0.9918)\n",
            "281 :  tensor(0.9920)\n",
            "282 :  tensor(0.9921)\n",
            "283 :  tensor(0.9920)\n",
            "284 :  tensor(0.9871)\n",
            "285 :  tensor(0.9894)\n",
            "286 :  tensor(0.9904)\n",
            "287 :  tensor(0.9894)\n",
            "288 :  tensor(0.9900)\n",
            "289 :  tensor(0.9915)\n",
            "290 :  tensor(0.9892)\n",
            "291 :  tensor(0.9912)\n",
            "292 :  tensor(0.9911)\n",
            "293 :  tensor(0.9912)\n",
            "294 :  tensor(0.9912)\n",
            "295 :  tensor(0.9913)\n",
            "296 :  tensor(0.9914)\n",
            "297 :  tensor(0.9915)\n",
            "298 :  tensor(0.9916)\n",
            "299 :  tensor(0.9918)\n",
            "300 :  tensor(0.9919)\n",
            "301 :  tensor(0.9920)\n",
            "302 :  tensor(0.9922)\n",
            "303 :  tensor(0.9921)\n",
            "304 :  tensor(0.9922)\n",
            "305 :  tensor(0.9922)\n",
            "306 :  tensor(0.9921)\n",
            "307 :  tensor(0.9922)\n",
            "308 :  tensor(0.9922)\n",
            "309 :  tensor(0.9922)\n",
            "310 :  tensor(0.9922)\n",
            "311 :  tensor(0.9924)\n",
            "312 :  tensor(0.9924)\n",
            "313 :  tensor(0.9924)\n",
            "314 :  tensor(0.9922)\n",
            "315 :  tensor(0.9925)\n",
            "316 :  tensor(0.9924)\n",
            "317 :  tensor(0.9925)\n",
            "318 :  tensor(0.9925)\n",
            "319 :  tensor(0.9924)\n",
            "320 :  tensor(0.9926)\n",
            "321 :  tensor(0.9924)\n",
            "322 :  tensor(0.9925)\n",
            "323 :  tensor(0.9925)\n",
            "324 :  tensor(0.9924)\n",
            "325 :  tensor(0.9925)\n",
            "326 :  tensor(0.9926)\n",
            "327 :  tensor(0.9926)\n",
            "328 :  tensor(0.9929)\n",
            "329 :  tensor(0.9931)\n",
            "330 :  tensor(0.9931)\n",
            "331 :  tensor(0.9929)\n",
            "332 :  tensor(0.9933)\n",
            "333 :  tensor(0.9928)\n",
            "334 :  tensor(0.9931)\n",
            "335 :  tensor(0.9934)\n",
            "336 :  tensor(0.9896)\n",
            "337 :  tensor(0.9904)\n",
            "338 :  tensor(0.9914)\n",
            "339 :  tensor(0.9915)\n",
            "340 :  tensor(0.9916)\n",
            "341 :  tensor(0.9917)\n",
            "342 :  tensor(0.9916)\n",
            "343 :  tensor(0.9914)\n",
            "344 :  tensor(0.9915)\n",
            "345 :  tensor(0.9915)\n",
            "346 :  tensor(0.9916)\n",
            "347 :  tensor(0.9918)\n",
            "348 :  tensor(0.9919)\n",
            "349 :  tensor(0.9918)\n",
            "350 :  tensor(0.9919)\n",
            "351 :  tensor(0.9919)\n",
            "352 :  tensor(0.9920)\n",
            "353 :  tensor(0.9920)\n",
            "354 :  tensor(0.9920)\n",
            "355 :  tensor(0.9918)\n",
            "356 :  tensor(0.9917)\n",
            "357 :  tensor(0.9918)\n",
            "358 :  tensor(0.9918)\n",
            "359 :  tensor(0.9920)\n",
            "360 :  tensor(0.9921)\n",
            "361 :  tensor(0.9921)\n",
            "362 :  tensor(0.9924)\n",
            "363 :  tensor(0.9924)\n",
            "364 :  tensor(0.9924)\n",
            "365 :  tensor(0.9926)\n",
            "366 :  tensor(0.9926)\n",
            "367 :  tensor(0.9925)\n",
            "368 :  tensor(0.9927)\n",
            "369 :  tensor(0.9927)\n",
            "370 :  tensor(0.9926)\n",
            "371 :  tensor(0.9927)\n",
            "372 :  tensor(0.9928)\n",
            "373 :  tensor(0.9927)\n",
            "374 :  tensor(0.9927)\n",
            "375 :  tensor(0.9928)\n",
            "376 :  tensor(0.9928)\n",
            "377 :  tensor(0.9929)\n",
            "378 :  tensor(0.9929)\n",
            "379 :  tensor(0.9929)\n",
            "380 :  tensor(0.9930)\n",
            "381 :  tensor(0.9931)\n",
            "382 :  tensor(0.9930)\n",
            "383 :  tensor(0.9930)\n",
            "384 :  tensor(0.9783)\n",
            "385 :  tensor(0.9904)\n",
            "386 :  tensor(0.9917)\n",
            "387 :  tensor(0.9916)\n",
            "388 :  tensor(0.9918)\n",
            "389 :  tensor(0.9919)\n",
            "390 :  tensor(0.9921)\n",
            "391 :  tensor(0.9921)\n",
            "392 :  tensor(0.9923)\n",
            "393 :  tensor(0.9923)\n",
            "394 :  tensor(0.9924)\n",
            "395 :  tensor(0.9925)\n",
            "396 :  tensor(0.9924)\n",
            "397 :  tensor(0.9924)\n",
            "398 :  tensor(0.9925)\n",
            "399 :  tensor(0.9925)\n",
            "400 :  tensor(0.9928)\n",
            "tensor(0.9934)\n"
          ]
        }
      ]
    },
    {
      "cell_type": "code",
      "metadata": {
        "id": "rholA_D0GZz8",
        "outputId": "dd4934de-ade7-4a88-d419-552f7b320e8a",
        "colab": {
          "base_uri": "https://localhost:8080/"
        }
      },
      "source": [
        "lenet5.forward(X_test)"
      ],
      "execution_count": 100,
      "outputs": [
        {
          "output_type": "execute_result",
          "data": {
            "text/plain": [
              "tensor([[-25.1703, -33.8391, -34.4627,  ...,  30.0232, -30.9579, -15.5989],\n",
              "        [-14.3028, -23.9063,  48.2185,  ..., -46.8028, -24.3072, -62.7772],\n",
              "        [-14.1320,  30.9846, -30.5447,  ..., -12.3846, -19.4192, -32.2667],\n",
              "        ...,\n",
              "        [-49.0168, -36.0136, -43.3021,  ..., -34.3866, -25.7571, -30.7426],\n",
              "        [-20.5356, -47.3685, -62.4401,  ..., -27.3486,   6.9186, -31.9353],\n",
              "        [-18.3682, -15.1435, -28.7022,  ..., -38.4417, -21.7231, -39.2057]],\n",
              "       device='cuda:0', grad_fn=<AddmmBackward0>)"
            ]
          },
          "metadata": {},
          "execution_count": 100
        }
      ]
    },
    {
      "cell_type": "code",
      "metadata": {
        "colab": {
          "base_uri": "https://localhost:8080/",
          "height": 282
        },
        "id": "nQd9bHEiGZ35",
        "outputId": "dc030ff9-c46d-4f06-d759-3d2ac47ea3ee"
      },
      "source": [
        "plt.plot(test_accuracy_history,label='test')\n",
        "plt.plot(train_accuracy_history,label='train')\n",
        "plt.legend(loc='upper right')"
      ],
      "execution_count": 101,
      "outputs": [
        {
          "output_type": "execute_result",
          "data": {
            "text/plain": [
              "<matplotlib.legend.Legend at 0x7f9dd0508a30>"
            ]
          },
          "metadata": {},
          "execution_count": 101
        },
        {
          "output_type": "display_data",
          "data": {
            "text/plain": [
              "<Figure size 432x288 with 1 Axes>"
            ],
            "image/png": "[encoded data removed]"
          },
          "metadata": {
            "needs_background": "light"
          }
        }
      ]
    },
    {
      "cell_type": "code",
      "metadata": {
        "colab": {
          "base_uri": "https://localhost:8080/",
          "height": 282
        },
        "id": "PVrly96bGaEV",
        "outputId": "50810528-ed69-4a1c-86a7-31e43e1d2916"
      },
      "source": [
        "plt.plot(test_loss_history,label='test');\n",
        "plt.plot(train_loss_history,label='train');\n",
        "plt.legend(loc='upper right')"
      ],
      "execution_count": 102,
      "outputs": [
        {
          "output_type": "execute_result",
          "data": {
            "text/plain": [
              "<matplotlib.legend.Legend at 0x7f9dd0484880>"
            ]
          },
          "metadata": {},
          "execution_count": 102
        },
        {
          "output_type": "display_data",
          "data": {
            "text/plain": [
              "<Figure size 432x288 with 1 Axes>"
            ],
            "image/png": "[encoded data removed]"
          },
          "metadata": {
            "needs_background": "light"
          }
        }
      ]
    }
  ]
}