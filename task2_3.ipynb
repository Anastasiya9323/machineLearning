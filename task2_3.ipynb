{
  "nbformat": 4,
  "nbformat_minor": 0,
  "metadata": {
    "colab": {
      "provenance": [],
      "authorship_tag": "ABX9TyMVUB9JrgerjZDlL+b8v0v/",
      "include_colab_link": true
    },
    "kernelspec": {
      "name": "python3",
      "display_name": "Python 3"
    },
    "language_info": {
      "name": "python"
    }
  },
  "cells": [
    {
      "cell_type": "markdown",
      "metadata": {
        "id": "view-in-github",
        "colab_type": "text"
      },
      "source": [
        "<a href=\"https://colab.research.google.com/github/Anastasiya9323/machineLearning/blob/main/task2_3.ipynb\" target=\"_parent\"><img src=\"https://colab.research.google.com/assets/colab-badge.svg\" alt=\"Open In Colab\"/></a>"
      ]
    },
    {
      "cell_type": "code",
      "execution_count": null,
      "metadata": {
        "colab": {
          "base_uri": "https://localhost:8080/"
        },
        "id": "4oyNLECoIjjE",
        "outputId": "4f38426b-3350-4608-eb6f-f99c3ce890bc"
      },
      "outputs": [
        {
          "output_type": "stream",
          "name": "stdout",
          "text": [
            "tensor([[4.9900, 9.9948],\n",
            "        [0.9775, 1.9825]], requires_grad=True)\n"
          ]
        }
      ],
      "source": [
        "import torch\n",
        "\n",
        "w = torch.tensor(\n",
        "    [[5., 10.],\n",
        "     [1., 2.]], requires_grad=True)\n",
        "\n",
        "#######\n",
        "device = torch.device('cuda:0' \n",
        "                      if torch.cuda.is_available() \n",
        "                      else 'cpu')\n",
        "w = w.to(device)\n",
        "#######\n",
        "\n",
        "optimizer =  torch.optim.SGD([w],lr=0.001)\n",
        "for _ in range(500):\n",
        "    function = torch.log(torch.log(w+7)).prod()\n",
        "    function.backward()\n",
        "    optimizer.step()\n",
        "    w.grad.zero_()\n",
        "\n",
        "print(w)"
      ]
    }
  ]
}